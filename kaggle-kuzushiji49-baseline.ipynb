{
 "cells": [
  {
   "cell_type": "code",
   "execution_count": 1,
   "id": "7a92a13b",
   "metadata": {
    "execution": {
     "iopub.execute_input": "2022-03-24T03:19:56.121328Z",
     "iopub.status.busy": "2022-03-24T03:19:56.120158Z",
     "iopub.status.idle": "2022-03-24T03:20:04.937680Z",
     "shell.execute_reply": "2022-03-24T03:20:04.936827Z"
    },
    "papermill": {
     "duration": 8.827449,
     "end_time": "2022-03-24T03:20:04.937854",
     "exception": false,
     "start_time": "2022-03-24T03:19:56.110405",
     "status": "completed"
    },
    "tags": []
   },
   "outputs": [
    {
     "name": "stderr",
     "output_type": "stream",
     "text": [
      "2022-03-24 03:19:57.639264: W tensorflow/stream_executor/platform/default/dso_loader.cc:60] Could not load dynamic library 'libcudart.so.11.0'; dlerror: libcudart.so.11.0: cannot open shared object file: No such file or directory; LD_LIBRARY_PATH: /opt/conda/lib\n",
      "2022-03-24 03:19:57.639377: I tensorflow/stream_executor/cuda/cudart_stub.cc:29] Ignore above cudart dlerror if you do not have a GPU set up on your machine.\n"
     ]
    }
   ],
   "source": [
    "# ライブラリのインポート\n",
    "import numpy as np\n",
    "import pandas as pd\n",
    "\n",
    "from sklearn.model_selection import train_test_split\n",
    "\n",
    "import tensorflow as tf\n",
    "\n",
    "import tensorflow_hub as hub\n",
    "\n",
    "# データの読み込み\n",
    "root_dir = \"/kaggle/\"\n",
    "all_train_images = np.load(root_dir + \"input/kuzushiji/k49-train-imgs.npz\")[\"arr_0\"]\n",
    "test_images = np.load(root_dir + \"input/kuzushiji/k49-test-imgs.npz\")[\"arr_0\"]\n",
    "all_train_labels = np.load(root_dir + \"input/kuzushiji/k49-train-labels.npz\")[\"arr_0\"]\n",
    "test_labels = np.load(root_dir + \"input/kuzushiji/k49-test-labels.npz\")\n",
    "class_map_df = pd.read_csv(root_dir + \"input/kuzushiji/k49_classmap.csv\")\n",
    "\n",
    "# データの分割\n",
    "train_images, valid_images, train_labels, valid_labels = train_test_split(all_train_images, all_train_labels,\n",
    "                                                                          test_size=0.2, random_state=42)"
   ]
  },
  {
   "cell_type": "code",
   "execution_count": 2,
   "id": "63269eb1",
   "metadata": {
    "execution": {
     "iopub.execute_input": "2022-03-24T03:20:04.954486Z",
     "iopub.status.busy": "2022-03-24T03:20:04.953534Z",
     "iopub.status.idle": "2022-03-24T03:20:04.959487Z",
     "shell.execute_reply": "2022-03-24T03:20:04.959004Z"
    },
    "papermill": {
     "duration": 0.014873,
     "end_time": "2022-03-24T03:20:04.959656",
     "exception": false,
     "start_time": "2022-03-24T03:20:04.944783",
     "status": "completed"
    },
    "tags": []
   },
   "outputs": [],
   "source": [
    "# データセットに関するパラメータ\n",
    "NUM_CLASSES = 49\n",
    "ORIGINAL_HEIGHT = 28\n",
    "ORIGINAL_WIDTH = 28\n",
    "\n",
    "IMAGE_HEIGHT = 32\n",
    "IMAGE_WIDTH = 32\n",
    "IMAGE_CHANNEL = 3\n",
    "\n",
    "# 学習のパラメータ\n",
    "NUM_EPOCH = 10\n",
    "BATCH_SIZE = 256"
   ]
  },
  {
   "cell_type": "code",
   "execution_count": 3,
   "id": "56997002",
   "metadata": {
    "execution": {
     "iopub.execute_input": "2022-03-24T03:20:04.979857Z",
     "iopub.status.busy": "2022-03-24T03:20:04.979173Z",
     "iopub.status.idle": "2022-03-24T03:20:12.702973Z",
     "shell.execute_reply": "2022-03-24T03:20:12.702289Z"
    },
    "papermill": {
     "duration": 7.737907,
     "end_time": "2022-03-24T03:20:12.703116",
     "exception": false,
     "start_time": "2022-03-24T03:20:04.965209",
     "status": "completed"
    },
    "tags": []
   },
   "outputs": [
    {
     "name": "stderr",
     "output_type": "stream",
     "text": [
      "2022-03-24 03:20:05.911588: I tensorflow/compiler/jit/xla_cpu_device.cc:41] Not creating XLA devices, tf_xla_enable_xla_devices not set\n",
      "2022-03-24 03:20:05.914867: W tensorflow/stream_executor/platform/default/dso_loader.cc:60] Could not load dynamic library 'libcuda.so.1'; dlerror: libcuda.so.1: cannot open shared object file: No such file or directory; LD_LIBRARY_PATH: /opt/conda/lib\n",
      "2022-03-24 03:20:05.914910: W tensorflow/stream_executor/cuda/cuda_driver.cc:326] failed call to cuInit: UNKNOWN ERROR (303)\n",
      "2022-03-24 03:20:05.914937: I tensorflow/stream_executor/cuda/cuda_diagnostics.cc:156] kernel driver does not appear to be running on this host (1793952ff325): /proc/driver/nvidia/version does not exist\n",
      "2022-03-24 03:20:05.915232: I tensorflow/core/platform/cpu_feature_guard.cc:142] This TensorFlow binary is optimized with oneAPI Deep Neural Network Library (oneDNN) to use the following CPU instructions in performance-critical operations:  AVX2 FMA\n",
      "To enable them in other operations, rebuild TensorFlow with the appropriate compiler flags.\n",
      "2022-03-24 03:20:05.915671: I tensorflow/compiler/jit/xla_gpu_device.cc:99] Not creating XLA devices, tf_xla_enable_xla_devices not set\n"
     ]
    }
   ],
   "source": [
    "# 画像の前処理\n",
    "def image_preprocess(image):\n",
    "    image = tf.image.resize(tf.reshape(tf.repeat(image, IMAGE_CHANNEL, axis=1),(ORIGINAL_HEIGHT, ORIGINAL_WIDTH, IMAGE_CHANNEL)), (IMAGE_HEIGHT, IMAGE_WIDTH))\n",
    "    image = tf.image.convert_image_dtype(image, dtype=tf.float32) / 255\n",
    "    return image\n",
    "\n",
    "\n",
    "# one-hotエンコーディング\n",
    "def label_preprocess(label):\n",
    "    label = tf.one_hot(label, 49)\n",
    "    return label\n",
    "\n",
    "# modelの定義\n",
    "optimizer = tf.keras.optimizers.Adam()\n",
    "loss_object = tf.keras.losses.CategoricalCrossentropy()\n",
    "model = tf.keras.Sequential([hub.KerasLayer(\"https://tfhub.dev/google/imagenet/efficientnet_v2_imagenet21k_b0/feature_vector/2\", trainable=True), tf.keras.layers.Dense(NUM_CLASSES, activation='softmax')])\n",
    "model.build([None, IMAGE_HEIGHT, IMAGE_WIDTH, IMAGE_CHANNEL])\n",
    "model.compile(optimizer=optimizer, loss=loss_object, metrics=[\"accuracy\"])"
   ]
  },
  {
   "cell_type": "code",
   "execution_count": 4,
   "id": "43a82508",
   "metadata": {
    "execution": {
     "iopub.execute_input": "2022-03-24T03:20:12.724072Z",
     "iopub.status.busy": "2022-03-24T03:20:12.723034Z",
     "iopub.status.idle": "2022-03-24T03:20:13.182141Z",
     "shell.execute_reply": "2022-03-24T03:20:13.181551Z"
    },
    "papermill": {
     "duration": 0.473026,
     "end_time": "2022-03-24T03:20:13.182307",
     "exception": false,
     "start_time": "2022-03-24T03:20:12.709281",
     "status": "completed"
    },
    "tags": []
   },
   "outputs": [],
   "source": [
    "# データセットの定義\n",
    "# 注意： tf.data.Dataset.from_tensor_slicesはnumpyの配列を入れるとグラフ変換後も追跡しメモリを消費してしまうため、Tensorへの変換が必要\n",
    "train_dataset = tf.data.Dataset.from_tensor_slices((tf.constant(train_images, dtype=\"uint8\"), tf.constant(train_labels, \"uint8\")))\n",
    "valid_dataset = tf.data.Dataset.from_tensor_slices((tf.constant(valid_images, dtype=\"uint8\"), tf.constant(valid_labels, \"uint8\")))\n",
    "test_dataset = tf.data.Dataset.from_tensor_slices((tf.constant(test_images, dtype=\"uint8\"),))\n",
    "\n",
    "# modelに渡す用のデータセットの変換\n",
    "# shuffleでデータセットをエポックごとにシャッフル\n",
    "# mapを使うことでマルチスレッドでの前処理が可能\n",
    "# prefetchを使うことでデータセットを一定数事前に準備可能\n",
    "train_ds = (train_dataset.shuffle(len(train_dataset), reshuffle_each_iteration=True).map(lambda image,label: (image_preprocess(image), label_preprocess(label)), num_parallel_calls = tf.data.AUTOTUNE).batch(BATCH_SIZE).prefetch(tf.data.AUTOTUNE))\n",
    "\n",
    "valid_ds = (valid_dataset.map(lambda image, label: (image_preprocess(image), label_preprocess(label)), num_parallel_calls = tf.data.AUTOTUNE).batch(BATCH_SIZE).prefetch(tf.data.AUTOTUNE))\n",
    "\n",
    "test_ds = (test_dataset.map(image_preprocess, num_parallel_calls=tf.data.AUTOTUNE).batch(BATCH_SIZE).prefetch(tf.data.AUTOTUNE))"
   ]
  },
  {
   "cell_type": "code",
   "execution_count": 5,
   "id": "1b83b33b",
   "metadata": {
    "execution": {
     "iopub.execute_input": "2022-03-24T03:20:13.203144Z",
     "iopub.status.busy": "2022-03-24T03:20:13.202388Z",
     "iopub.status.idle": "2022-03-24T05:11:11.526096Z",
     "shell.execute_reply": "2022-03-24T05:11:11.525534Z"
    },
    "papermill": {
     "duration": 6658.337636,
     "end_time": "2022-03-24T05:11:11.526234",
     "exception": false,
     "start_time": "2022-03-24T03:20:13.188598",
     "status": "completed"
    },
    "tags": []
   },
   "outputs": [
    {
     "name": "stderr",
     "output_type": "stream",
     "text": [
      "2022-03-24 03:20:13.361317: I tensorflow/compiler/mlir/mlir_graph_optimization_pass.cc:116] None of the MLIR optimization passes are enabled (registered 2)\n",
      "2022-03-24 03:20:13.365982: I tensorflow/core/platform/profile_utils/cpu_utils.cc:112] CPU Frequency: 2199995000 Hz\n"
     ]
    },
    {
     "name": "stdout",
     "output_type": "stream",
     "text": [
      "Epoch 1/10\n",
      "727/727 [==============================] - 672s 909ms/step - loss: 1.9023 - accuracy: 0.5995 - val_loss: 0.2230 - val_accuracy: 0.9372\n",
      "Epoch 2/10\n",
      "727/727 [==============================] - 657s 904ms/step - loss: 0.2570 - accuracy: 0.9307 - val_loss: 0.1623 - val_accuracy: 0.9552\n",
      "Epoch 3/10\n",
      "727/727 [==============================] - 662s 910ms/step - loss: 0.1850 - accuracy: 0.9507 - val_loss: 0.1455 - val_accuracy: 0.9618\n",
      "Epoch 4/10\n",
      "727/727 [==============================] - 659s 906ms/step - loss: 0.1411 - accuracy: 0.9605 - val_loss: 0.1264 - val_accuracy: 0.9649\n",
      "Epoch 5/10\n",
      "727/727 [==============================] - 656s 901ms/step - loss: 0.1284 - accuracy: 0.9641 - val_loss: 0.1162 - val_accuracy: 0.9689\n",
      "Epoch 6/10\n",
      "727/727 [==============================] - 659s 906ms/step - loss: 0.1030 - accuracy: 0.9706 - val_loss: 0.1248 - val_accuracy: 0.9672\n",
      "Epoch 7/10\n",
      "727/727 [==============================] - 652s 896ms/step - loss: 0.0985 - accuracy: 0.9715 - val_loss: 0.2387 - val_accuracy: 0.9357\n",
      "Epoch 8/10\n",
      "727/727 [==============================] - 663s 911ms/step - loss: 0.1736 - accuracy: 0.9545 - val_loss: 0.1134 - val_accuracy: 0.9706\n",
      "Epoch 9/10\n",
      "727/727 [==============================] - 661s 909ms/step - loss: 0.0795 - accuracy: 0.9770 - val_loss: 0.1344 - val_accuracy: 0.9654\n",
      "Epoch 10/10\n",
      "727/727 [==============================] - 660s 907ms/step - loss: 0.1094 - accuracy: 0.9692 - val_loss: 0.1033 - val_accuracy: 0.9737\n",
      "0.9725107085475262\n",
      "nan\n"
     ]
    },
    {
     "name": "stderr",
     "output_type": "stream",
     "text": [
      "/opt/conda/lib/python3.7/site-packages/ipykernel_launcher.py:13: RuntimeWarning: Mean of empty slice.\n",
      "  del sys.path[0]\n",
      "/opt/conda/lib/python3.7/site-packages/numpy/core/_methods.py:170: RuntimeWarning: invalid value encountered in double_scalars\n",
      "  ret = ret.dtype.type(ret / rcount)\n"
     ]
    }
   ],
   "source": [
    "# modelの学習\n",
    "history = model.fit(train_ds, validation_data=valid_ds, epochs=NUM_EPOCH)\n",
    "\n",
    "# modelの予測\n",
    "valid_pred = np.argmax(model.predict(valid_ds), axis=1)\n",
    "test_pred = np.argmax(model.predict(test_ds), axis=1)\n",
    "\n",
    "\n",
    "def balanced_accuracy(y_true, y_pred):\n",
    "    accs=[]\n",
    "    for cls in range(49):\n",
    "        mask = (y_true == cls) \n",
    "        cls_acc = (y_pred == cls)[mask].mean()\n",
    "        accs.append(cls_acc)\n",
    "    accs = np.mean(accs)\n",
    "    return accs\n",
    "\n",
    "print(balanced_accuracy(valid_labels, valid_pred))\n",
    "print(balanced_accuracy(test_labels, test_pred))"
   ]
  }
 ],
 "metadata": {
  "kernelspec": {
   "display_name": "Python 3",
   "language": "python",
   "name": "python3"
  },
  "language_info": {
   "codemirror_mode": {
    "name": "ipython",
    "version": 3
   },
   "file_extension": ".py",
   "mimetype": "text/x-python",
   "name": "python",
   "nbconvert_exporter": "python",
   "pygments_lexer": "ipython3",
   "version": "3.7.10"
  },
  "papermill": {
   "default_parameters": {},
   "duration": 6688.693703,
   "end_time": "2022-03-24T05:11:16.841014",
   "environment_variables": {},
   "exception": null,
   "input_path": "__notebook__.ipynb",
   "output_path": "__notebook__.ipynb",
   "parameters": {},
   "start_time": "2022-03-24T03:19:48.147311",
   "version": "2.3.3"
  }
 },
 "nbformat": 4,
 "nbformat_minor": 5
}
